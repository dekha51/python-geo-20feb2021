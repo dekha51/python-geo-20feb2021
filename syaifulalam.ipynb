{
 "cells": [
  {
   "cell_type": "code",
   "execution_count": 2,
   "metadata": {},
   "outputs": [],
   "source": [
    "#author: Syaiful Alam\n",
    "import warnings\n",
    "warnings.filterwarnings('ignore')"
   ]
  },
  {
   "cell_type": "code",
   "execution_count": 3,
   "metadata": {},
   "outputs": [
    {
     "name": "stdout",
     "output_type": "stream",
     "text": [
      "Requirement already satisfied: lasio in c:\\users\\localadmin\\anaconda3\\lib\\site-packages (0.28)\n",
      "Requirement already satisfied: numpy in c:\\users\\localadmin\\anaconda3\\lib\\site-packages (from lasio) (1.19.2)\n"
     ]
    }
   ],
   "source": [
    "import sys\n",
    "!{sys.executable} -m pip install lasio"
   ]
  },
  {
   "cell_type": "code",
   "execution_count": 4,
   "metadata": {},
   "outputs": [],
   "source": [
    "import numpy as np\n",
    "import matplotlib.pyplot as plt\n",
    "import seaborn as sbn\n",
    "import pandas as pd"
   ]
  },
  {
   "cell_type": "markdown",
   "metadata": {},
   "source": [
    "### Data loading"
   ]
  },
  {
   "cell_type": "code",
   "execution_count": 5,
   "metadata": {},
   "outputs": [],
   "source": [
    "import lasio\n",
    "las=lasio.read('well-1.las')"
   ]
  },
  {
   "cell_type": "code",
   "execution_count": 6,
   "metadata": {},
   "outputs": [
    {
     "name": "stdout",
     "output_type": "stream",
     "text": [
      "         CALI       DT      GR    ILD   MSFL  NPHI_LS   RHOB\n",
      "DEPTH                                                       \n",
      "3338.0  8.617  123.625  88.812  1.006  1.292  0.48193  2.264\n",
      "3338.5  8.562  116.875  79.500  1.182  1.258  0.46924  2.320\n",
      "3339.0  8.594  100.000  68.562  1.417  1.250  0.37354  2.408\n",
      "3339.5  8.492   83.938  51.500  1.742  1.430  0.21143  2.562\n",
      "3340.0  8.297   65.750  33.844  2.174  7.311  0.13428  2.668\n",
      "...       ...      ...     ...    ...    ...      ...    ...\n",
      "3749.5  8.555  130.625  85.000  0.773  0.873  0.43115  2.184\n",
      "3750.0  8.648  130.875  87.500  0.772  0.891  0.43164  2.170\n",
      "3750.5  8.680  130.875  86.250  0.775  1.158  0.44092  2.178\n",
      "3751.0  8.727  129.375  89.188  0.773  1.072  0.42285  2.184\n",
      "3751.5  8.633  129.500  89.688  0.772  1.035  0.40430  2.191\n",
      "\n",
      "[828 rows x 7 columns]\n"
     ]
    }
   ],
   "source": [
    "tugas=las.df()\n",
    "kujung=tugas.loc[3337.79:3751.5]\n",
    "print(kujung)"
   ]
  },
  {
   "cell_type": "markdown",
   "metadata": {},
   "source": [
    "### Rw, Sw Calculation"
   ]
  },
  {
   "cell_type": "code",
   "execution_count": 7,
   "metadata": {},
   "outputs": [],
   "source": [
    "m_dens=2.65\n",
    "f_dens=1\n",
    "\n",
    "def density_porosity(rhob,m_dens,f_dens):\n",
    "    pore_dens=(m_dens-rhob)/(m_dens-f_dens)\n",
    "    return(pore_dens)"
   ]
  },
  {
   "cell_type": "code",
   "execution_count": 8,
   "metadata": {},
   "outputs": [
    {
     "name": "stdout",
     "output_type": "stream",
     "text": [
      "         CALI       DT      GR    ILD   MSFL  NPHI_LS   RHOB  pore_dens\n",
      "DEPTH                                                                  \n",
      "3338.0  8.617  123.625  88.812  1.006  1.292  0.48193  2.264   0.233939\n",
      "3338.5  8.562  116.875  79.500  1.182  1.258  0.46924  2.320   0.200000\n",
      "3339.0  8.594  100.000  68.562  1.417  1.250  0.37354  2.408   0.146667\n",
      "3339.5  8.492   83.938  51.500  1.742  1.430  0.21143  2.562   0.053333\n",
      "3340.0  8.297   65.750  33.844  2.174  7.311  0.13428  2.668  -0.010909\n",
      "...       ...      ...     ...    ...    ...      ...    ...        ...\n",
      "3749.5  8.555  130.625  85.000  0.773  0.873  0.43115  2.184   0.282424\n",
      "3750.0  8.648  130.875  87.500  0.772  0.891  0.43164  2.170   0.290909\n",
      "3750.5  8.680  130.875  86.250  0.775  1.158  0.44092  2.178   0.286061\n",
      "3751.0  8.727  129.375  89.188  0.773  1.072  0.42285  2.184   0.282424\n",
      "3751.5  8.633  129.500  89.688  0.772  1.035  0.40430  2.191   0.278182\n",
      "\n",
      "[828 rows x 8 columns]\n"
     ]
    }
   ],
   "source": [
    "kujung['pore_dens']=density_porosity(kujung['RHOB'],m_dens,f_dens)\n",
    "pore=pd.DataFrame(kujung)\n",
    "print(pore)"
   ]
  },
  {
   "cell_type": "code",
   "execution_count": 9,
   "metadata": {},
   "outputs": [
    {
     "name": "stdout",
     "output_type": "stream",
     "text": [
      "         CALI       DT      GR    ILD   MSFL  NPHI_LS   RHOB  pore_dens  \\\n",
      "DEPTH                                                                     \n",
      "3338.0  8.617  123.625  88.812  1.006  1.292  0.48193  2.264   0.233939   \n",
      "3338.5  8.562  116.875  79.500  1.182  1.258  0.46924  2.320   0.200000   \n",
      "3339.0  8.594  100.000  68.562  1.417  1.250  0.37354  2.408   0.146667   \n",
      "3339.5  8.492   83.938  51.500  1.742  1.430  0.21143  2.562   0.053333   \n",
      "3340.0  8.297   65.750  33.844  2.174  7.311  0.13428  2.668  -0.010909   \n",
      "...       ...      ...     ...    ...    ...      ...    ...        ...   \n",
      "3749.5  8.555  130.625  85.000  0.773  0.873  0.43115  2.184   0.282424   \n",
      "3750.0  8.648  130.875  87.500  0.772  0.891  0.43164  2.170   0.290909   \n",
      "3750.5  8.680  130.875  86.250  0.775  1.158  0.44092  2.178   0.286061   \n",
      "3751.0  8.727  129.375  89.188  0.773  1.072  0.42285  2.184   0.282424   \n",
      "3751.5  8.633  129.500  89.688  0.772  1.035  0.40430  2.191   0.278182   \n",
      "\n",
      "         rw_calc  \n",
      "DEPTH             \n",
      "3338.0  0.233650  \n",
      "3338.5  0.260260  \n",
      "3339.0  0.197717  \n",
      "3339.5  0.077872  \n",
      "3340.0  0.039200  \n",
      "...          ...  \n",
      "3749.5  0.143693  \n",
      "3750.0  0.143834  \n",
      "3750.5  0.150668  \n",
      "3751.0  0.138214  \n",
      "3751.5  0.126190  \n",
      "\n",
      "[828 rows x 9 columns]\n"
     ]
    }
   ],
   "source": [
    "a=1\n",
    "m=2\n",
    "n=2\n",
    "ild=pore['ILD']\n",
    "nphi=pore['NPHI_LS']\n",
    "def water_resistivity(nphi,ild,m,a):\n",
    "    rw_calc=(nphi**m)*((ild)/a)\n",
    "    return(rw_calc)\n",
    "pore['rw_calc']=water_resistivity(nphi,ild,m,a)\n",
    "print(pore)"
   ]
  },
  {
   "cell_type": "code",
   "execution_count": 12,
   "metadata": {},
   "outputs": [
    {
     "name": "stdout",
     "output_type": "stream",
     "text": [
      "         CALI       DT      GR    ILD   MSFL  NPHI_LS   RHOB  pore_dens  \\\n",
      "DEPTH                                                                     \n",
      "3338.0  8.617  123.625  88.812  1.006  1.292  0.48193  2.264   0.233939   \n",
      "3338.5  8.562  116.875  79.500  1.182  1.258  0.46924  2.320   0.200000   \n",
      "3339.0  8.594  100.000  68.562  1.417  1.250  0.37354  2.408   0.146667   \n",
      "3339.5  8.492   83.938  51.500  1.742  1.430  0.21143  2.562   0.053333   \n",
      "3340.0  8.297   65.750  33.844  2.174  7.311  0.13428  2.668  -0.010909   \n",
      "...       ...      ...     ...    ...    ...      ...    ...        ...   \n",
      "3749.5  8.555  130.625  85.000  0.773  0.873  0.43115  2.184   0.282424   \n",
      "3750.0  8.648  130.875  87.500  0.772  0.891  0.43164  2.170   0.290909   \n",
      "3750.5  8.680  130.875  86.250  0.775  1.158  0.44092  2.178   0.286061   \n",
      "3751.0  8.727  129.375  89.188  0.773  1.072  0.42285  2.184   0.282424   \n",
      "3751.5  8.633  129.500  89.688  0.772  1.035  0.40430  2.191   0.278182   \n",
      "\n",
      "         rw_calc  sw_calc  \n",
      "DEPTH                      \n",
      "3338.0  0.233650      1.0  \n",
      "3338.5  0.260260      1.0  \n",
      "3339.0  0.197717      1.0  \n",
      "3339.5  0.077872      1.0  \n",
      "3340.0  0.039200      1.0  \n",
      "...          ...      ...  \n",
      "3749.5  0.143693      1.0  \n",
      "3750.0  0.143834      1.0  \n",
      "3750.5  0.150668      1.0  \n",
      "3751.0  0.138214      1.0  \n",
      "3751.5  0.126190      1.0  \n",
      "\n",
      "[828 rows x 10 columns]\n"
     ]
    }
   ],
   "source": [
    "rw_calc=pore['rw_calc']\n",
    "def water_saturation(nphi,m,a,n,rw_calc,ild):\n",
    "    sw_calc=((a/(nphi**m))*(rw_calc/ild))**(1/n)\n",
    "    return(sw_calc)\n",
    "pore['sw_calc']=water_saturation(nphi,m,a,n,rw_calc,ild)\n",
    "kujung_final=pore\n",
    "print(kujung_final)"
   ]
  },
  {
   "cell_type": "markdown",
   "metadata": {},
   "source": [
    "### Exploratory Data Analysis on the calculated Rw, Sw Log"
   ]
  },
  {
   "cell_type": "markdown",
   "metadata": {},
   "source": [
    "#### Measures of central tendency"
   ]
  },
  {
   "cell_type": "code",
   "execution_count": 23,
   "metadata": {},
   "outputs": [
    {
     "name": "stdout",
     "output_type": "stream",
     "text": [
      "mean in kujung_final: \n",
      "CALI           8.588909\n",
      "DT           118.736715\n",
      "GR            76.343841\n",
      "ILD            1.109170\n",
      "MSFL           1.743801\n",
      "NPHI_LS        0.381769\n",
      "RHOB           2.225851\n",
      "pore_dens      0.257060\n",
      "rw_calc        0.154674\n",
      "sw_calc        0.794252\n",
      "dtype: float64\n",
      "\n",
      "median in kujung_final: \n",
      "CALI           8.539000\n",
      "DT           119.375000\n",
      "GR            79.750000\n",
      "ILD            1.061000\n",
      "MSFL           1.343500\n",
      "NPHI_LS        0.387700\n",
      "RHOB           2.230000\n",
      "pore_dens      0.254545\n",
      "rw_calc        0.152117\n",
      "sw_calc        0.785523\n",
      "dtype: float64\n"
     ]
    }
   ],
   "source": [
    "print('mean in kujung_final: \\n' + str(kujung_final.mean())+'\\n')\n",
    "print('median in kujung_final: \\n' + str(kujung_final.median()))"
   ]
  },
  {
   "cell_type": "markdown",
   "metadata": {},
   "source": [
    "#### Measures of dispersion"
   ]
  },
  {
   "cell_type": "code",
   "execution_count": 24,
   "metadata": {},
   "outputs": [
    {
     "name": "stdout",
     "output_type": "stream",
     "text": [
      "range in kujung_final: \n",
      "CALI          2.742000\n",
      "DT           98.625000\n",
      "GR           83.547000\n",
      "ILD           5.441000\n",
      "MSFL         42.369000\n",
      "NPHI_LS       0.366700\n",
      "RHOB          0.844000\n",
      "pore_dens     0.511515\n",
      "rw_calc       0.304077\n",
      "sw_calc       1.476663\n",
      "dtype: float64\n",
      "\n",
      "variance in kujung_final: \n",
      "CALI           0.115627\n",
      "DT           147.692732\n",
      "GR           180.917350\n",
      "ILD            0.166698\n",
      "MSFL          10.636811\n",
      "NPHI_LS        0.002903\n",
      "RHOB           0.005117\n",
      "pore_dens      0.001880\n",
      "rw_calc        0.001039\n",
      "sw_calc        0.017501\n",
      "dtype: float64\n",
      "\n",
      "standard deviation in kujung_final: \n",
      "CALI          0.340040\n",
      "DT           12.152890\n",
      "GR           13.450552\n",
      "ILD           0.408286\n",
      "MSFL          3.261412\n",
      "NPHI_LS       0.053883\n",
      "RHOB          0.071534\n",
      "pore_dens     0.043354\n",
      "rw_calc       0.032237\n",
      "sw_calc       0.132292\n",
      "dtype: float64\n"
     ]
    }
   ],
   "source": [
    "print('range in kujung_final: \\n' + str(kujung_final.max()-kujung_final.min())+'\\n')\n",
    "print('variance in kujung_final: \\n' + str(kujung_final.var())+'\\n')\n",
    "print('standard deviation in kujung_final: \\n' + str(kujung_final.std()))"
   ]
  },
  {
   "cell_type": "code",
   "execution_count": 25,
   "metadata": {},
   "outputs": [
    {
     "name": "stdout",
     "output_type": "stream",
     "text": [
      "             CALI          DT          GR         ILD        MSFL     NPHI_LS  \\\n",
      "count  828.000000  828.000000  828.000000  828.000000  828.000000  828.000000   \n",
      "mean     8.588909  118.736715   76.343841    1.109170    1.743801    0.381769   \n",
      "std      0.340040   12.152890   13.450552    0.408286    3.261412    0.053883   \n",
      "min      7.680000   57.625000   17.641000    0.563000    0.460000    0.119630   \n",
      "25%      8.344000  110.531000   69.188000    0.864750    1.119000    0.349120   \n",
      "50%      8.539000  119.375000   79.750000    1.061000    1.343500    0.387700   \n",
      "75%      8.758000  128.031250   85.453500    1.267250    1.583000    0.419920   \n",
      "max     10.422000  156.250000  101.188000    6.004000   42.829000    0.486330   \n",
      "\n",
      "             RHOB   pore_dens     rw_calc     sw_calc  \n",
      "count  828.000000  828.000000  828.000000  828.000000  \n",
      "mean     2.225851    0.257060    0.154674    0.794252  \n",
      "std      0.071534    0.043354    0.032237    0.132292  \n",
      "min      1.875000   -0.041818    0.039200    0.555282  \n",
      "25%      2.188000    0.238788    0.133070    0.702499  \n",
      "50%      2.230000    0.254545    0.152117    0.785523  \n",
      "75%      2.256000    0.280000    0.173003    0.864184  \n",
      "max      2.719000    0.469697    0.343277    2.031945  \n"
     ]
    }
   ],
   "source": [
    "print(kujung_final.describe())"
   ]
  },
  {
   "cell_type": "code",
   "execution_count": 26,
   "metadata": {},
   "outputs": [
    {
     "data": {
      "image/png": "[encoded data removed]",
      "text/plain": [
       "<Figure size 432x288 with 1 Axes>"
      ]
     },
     "metadata": {
      "needs_background": "light"
     },
     "output_type": "display_data"
    }
   ],
   "source": [
    "sbn.boxplot(kujung_final['pore_dens'])\n",
    "plt.show()"
   ]
  },
  {
   "cell_type": "code",
   "execution_count": 27,
   "metadata": {},
   "outputs": [
    {
     "data": {
      "image/png": "[encoded data removed]",
      "text/plain": [
       "<Figure size 432x288 with 1 Axes>"
      ]
     },
     "metadata": {
      "needs_background": "light"
     },
     "output_type": "display_data"
    }
   ],
   "source": [
    "sbn.boxplot(kujung_final['rw_calc'])\n",
    "plt.show()"
   ]
  },
  {
   "cell_type": "code",
   "execution_count": 28,
   "metadata": {},
   "outputs": [
    {
     "data": {
      "image/png": "[encoded data removed]",
      "text/plain": [
       "<Figure size 432x288 with 1 Axes>"
      ]
     },
     "metadata": {
      "needs_background": "light"
     },
     "output_type": "display_data"
    }
   ],
   "source": [
    "sbn.boxplot(kujung_final['sw_calc'])\n",
    "plt.show()"
   ]
  },
  {
   "cell_type": "code",
   "execution_count": 29,
   "metadata": {},
   "outputs": [
    {
     "data": {
      "text/plain": [
       "<AxesSubplot:xlabel='pore_dens', ylabel='Density'>"
      ]
     },
     "execution_count": 29,
     "metadata": {},
     "output_type": "execute_result"
    },
    {
     "data": {
      "image/png": "[encoded data removed]",
      "text/plain": [
       "<Figure size 432x288 with 1 Axes>"
      ]
     },
     "metadata": {
      "needs_background": "light"
     },
     "output_type": "display_data"
    }
   ],
   "source": [
    "sbn.distplot(kujung_final['pore_dens'],bins=8)"
   ]
  },
  {
   "cell_type": "code",
   "execution_count": 30,
   "metadata": {},
   "outputs": [
    {
     "data": {
      "text/plain": [
       "<AxesSubplot:xlabel='rw_calc', ylabel='Density'>"
      ]
     },
     "execution_count": 30,
     "metadata": {},
     "output_type": "execute_result"
    },
    {
     "data": {
      "image/png": "[encoded data removed]",
      "text/plain": [
       "<Figure size 432x288 with 1 Axes>"
      ]
     },
     "metadata": {
      "needs_background": "light"
     },
     "output_type": "display_data"
    }
   ],
   "source": [
    "sbn.distplot(kujung_final['rw_calc'],bins=8)"
   ]
  },
  {
   "cell_type": "code",
   "execution_count": 31,
   "metadata": {},
   "outputs": [
    {
     "data": {
      "text/plain": [
       "<AxesSubplot:xlabel='sw_calc', ylabel='Density'>"
      ]
     },
     "execution_count": 31,
     "metadata": {},
     "output_type": "execute_result"
    },
    {
     "data": {
      "image/png": "[encoded data removed]",
      "text/plain": [
       "<Figure size 432x288 with 1 Axes>"
      ]
     },
     "metadata": {
      "needs_background": "light"
     },
     "output_type": "display_data"
    }
   ],
   "source": [
    "sbn.distplot(kujung_final['sw_calc'],bins=8)"
   ]
  },
  {
   "cell_type": "markdown",
   "metadata": {},
   "source": [
    "# End"
   ]
  }
 ],
 "metadata": {
  "kernelspec": {
   "display_name": "Python 3",
   "language": "python",
   "name": "python3"
  },
  "language_info": {
   "codemirror_mode": {
    "name": "ipython",
    "version": 3
   },
   "file_extension": ".py",
   "mimetype": "text/x-python",
   "name": "python",
   "nbconvert_exporter": "python",
   "pygments_lexer": "ipython3",
   "version": "3.8.5"
  }
 },
 "nbformat": 4,
 "nbformat_minor": 4
}
